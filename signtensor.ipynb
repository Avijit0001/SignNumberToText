{
 "cells": [
  {
   "cell_type": "code",
   "execution_count": 1,
   "metadata": {},
   "outputs": [],
   "source": [
    "import numpy as np\n",
    "\n",
    "x = np.load(\"C:\\ML stuff\\\\archive\\X.npy\")\n",
    "y = np.load(\"C:\\ML stuff\\\\archive\\Y.npy\")"
   ]
  },
  {
   "cell_type": "code",
   "execution_count": 2,
   "metadata": {},
   "outputs": [
    {
     "data": {
      "text/plain": [
       "<matplotlib.image.AxesImage at 0x28d34781070>"
      ]
     },
     "execution_count": 2,
     "metadata": {},
     "output_type": "execute_result"
    },
    {
     "data": {
      "image/png": "[encoded data removed]",
      "text/plain": [
       "<Figure size 640x480 with 1 Axes>"
      ]
     },
     "metadata": {},
     "output_type": "display_data"
    }
   ],
   "source": [
    "import matplotlib.pyplot as plt\n",
    "\n",
    "plt.imshow(x[778])\n"
   ]
  },
  {
   "cell_type": "code",
   "execution_count": 3,
   "metadata": {},
   "outputs": [
    {
     "name": "stdout",
     "output_type": "stream",
     "text": [
      "(1649, 64, 64) (413, 64, 64)\n",
      "(1649, 10) (413, 10)\n"
     ]
    }
   ],
   "source": [
    "from sklearn.model_selection import train_test_split\n",
    "\n",
    "x_train , x_test , y_train , y_test = train_test_split(x, y, test_size=0.2 ,random_state=42)\n",
    "\n",
    "print(x_train.shape,x_test.shape)\n",
    "print(y_train.shape,y_test.shape)"
   ]
  },
  {
   "cell_type": "code",
   "execution_count": 4,
   "metadata": {},
   "outputs": [
    {
     "name": "stdout",
     "output_type": "stream",
     "text": [
      "(1649, 64, 64, 1) (413, 64, 64, 1)\n",
      "(1649, 10) (413, 10)\n"
     ]
    }
   ],
   "source": [
    "x_train = x_train.reshape( -1 , 64 , 64 , 1 )\n",
    "x_test = x_test.reshape( -1, 64 , 64 , 1 )\n",
    "\n",
    "print(x_train.shape,x_test.shape)\n",
    "print(y_train.shape,y_test.shape)"
   ]
  },
  {
   "cell_type": "code",
   "execution_count": 18,
   "metadata": {},
   "outputs": [
    {
     "name": "stdout",
     "output_type": "stream",
     "text": [
      "Epoch 1/50\n",
      "52/52 - 3s - loss: 2.3045 - accuracy: 0.1001 - 3s/epoch - 55ms/step\n",
      "Epoch 2/50\n",
      "52/52 - 2s - loss: 1.9497 - accuracy: 0.3002 - 2s/epoch - 38ms/step\n",
      "Epoch 3/50\n",
      "52/52 - 2s - loss: 0.8654 - accuracy: 0.7022 - 2s/epoch - 38ms/step\n",
      "Epoch 4/50\n",
      "52/52 - 2s - loss: 0.4199 - accuracy: 0.8623 - 2s/epoch - 39ms/step\n",
      "Epoch 5/50\n",
      "52/52 - 2s - loss: 0.2627 - accuracy: 0.9266 - 2s/epoch - 38ms/step\n",
      "Epoch 6/50\n",
      "52/52 - 2s - loss: 0.1656 - accuracy: 0.9442 - 2s/epoch - 39ms/step\n",
      "Epoch 7/50\n",
      "52/52 - 2s - loss: 0.1156 - accuracy: 0.9624 - 2s/epoch - 38ms/step\n",
      "Epoch 8/50\n",
      "52/52 - 2s - loss: 0.0666 - accuracy: 0.9818 - 2s/epoch - 37ms/step\n",
      "Epoch 9/50\n",
      "52/52 - 2s - loss: 0.0436 - accuracy: 0.9867 - 2s/epoch - 38ms/step\n",
      "Epoch 10/50\n",
      "52/52 - 2s - loss: 0.0249 - accuracy: 0.9933 - 2s/epoch - 37ms/step\n",
      "Epoch 11/50\n",
      "52/52 - 2s - loss: 0.0585 - accuracy: 0.9812 - 2s/epoch - 38ms/step\n",
      "Epoch 12/50\n",
      "52/52 - 2s - loss: 0.0714 - accuracy: 0.9812 - 2s/epoch - 38ms/step\n",
      "Epoch 13/50\n",
      "52/52 - 2s - loss: 0.0297 - accuracy: 0.9903 - 2s/epoch - 37ms/step\n",
      "Epoch 14/50\n",
      "52/52 - 2s - loss: 0.0087 - accuracy: 0.9988 - 2s/epoch - 37ms/step\n",
      "Epoch 15/50\n",
      "52/52 - 2s - loss: 0.0020 - accuracy: 1.0000 - 2s/epoch - 37ms/step\n",
      "Epoch 16/50\n",
      "52/52 - 2s - loss: 7.7504e-04 - accuracy: 1.0000 - 2s/epoch - 37ms/step\n",
      "Epoch 17/50\n",
      "52/52 - 2s - loss: 5.1290e-04 - accuracy: 1.0000 - 2s/epoch - 37ms/step\n",
      "Epoch 18/50\n",
      "52/52 - 2s - loss: 3.6771e-04 - accuracy: 1.0000 - 2s/epoch - 38ms/step\n",
      "Epoch 19/50\n",
      "52/52 - 2s - loss: 3.0719e-04 - accuracy: 1.0000 - 2s/epoch - 39ms/step\n",
      "Epoch 20/50\n",
      "52/52 - 2s - loss: 2.5182e-04 - accuracy: 1.0000 - 2s/epoch - 38ms/step\n",
      "Epoch 21/50\n",
      "52/52 - 2s - loss: 2.1617e-04 - accuracy: 1.0000 - 2s/epoch - 38ms/step\n",
      "Epoch 22/50\n",
      "52/52 - 2s - loss: 1.8636e-04 - accuracy: 1.0000 - 2s/epoch - 37ms/step\n",
      "Epoch 23/50\n",
      "52/52 - 2s - loss: 1.6715e-04 - accuracy: 1.0000 - 2s/epoch - 37ms/step\n",
      "Epoch 24/50\n",
      "52/52 - 2s - loss: 1.4588e-04 - accuracy: 1.0000 - 2s/epoch - 38ms/step\n",
      "Epoch 25/50\n",
      "52/52 - 2s - loss: 1.2986e-04 - accuracy: 1.0000 - 2s/epoch - 37ms/step\n",
      "Epoch 26/50\n",
      "52/52 - 2s - loss: 1.1735e-04 - accuracy: 1.0000 - 2s/epoch - 38ms/step\n",
      "Epoch 27/50\n",
      "52/52 - 2s - loss: 1.0676e-04 - accuracy: 1.0000 - 2s/epoch - 37ms/step\n",
      "Epoch 28/50\n",
      "52/52 - 2s - loss: 1.0001e-04 - accuracy: 1.0000 - 2s/epoch - 37ms/step\n",
      "Epoch 29/50\n",
      "52/52 - 2s - loss: 8.7951e-05 - accuracy: 1.0000 - 2s/epoch - 38ms/step\n",
      "Epoch 30/50\n",
      "52/52 - 2s - loss: 8.3656e-05 - accuracy: 1.0000 - 2s/epoch - 37ms/step\n",
      "Epoch 31/50\n",
      "52/52 - 2s - loss: 7.4194e-05 - accuracy: 1.0000 - 2s/epoch - 38ms/step\n",
      "Epoch 32/50\n",
      "52/52 - 2s - loss: 6.8079e-05 - accuracy: 1.0000 - 2s/epoch - 37ms/step\n",
      "Epoch 33/50\n",
      "52/52 - 2s - loss: 6.3909e-05 - accuracy: 1.0000 - 2s/epoch - 38ms/step\n",
      "Epoch 34/50\n",
      "52/52 - 2s - loss: 6.0393e-05 - accuracy: 1.0000 - 2s/epoch - 37ms/step\n",
      "Epoch 35/50\n",
      "52/52 - 2s - loss: 5.4924e-05 - accuracy: 1.0000 - 2s/epoch - 38ms/step\n",
      "Epoch 36/50\n",
      "52/52 - 2s - loss: 5.0989e-05 - accuracy: 1.0000 - 2s/epoch - 38ms/step\n",
      "Epoch 37/50\n",
      "52/52 - 2s - loss: 4.8246e-05 - accuracy: 1.0000 - 2s/epoch - 37ms/step\n",
      "Epoch 38/50\n",
      "52/52 - 2s - loss: 4.5421e-05 - accuracy: 1.0000 - 2s/epoch - 37ms/step\n",
      "Epoch 39/50\n",
      "52/52 - 2s - loss: 4.2441e-05 - accuracy: 1.0000 - 2s/epoch - 37ms/step\n",
      "Epoch 40/50\n",
      "52/52 - 2s - loss: 3.9873e-05 - accuracy: 1.0000 - 2s/epoch - 38ms/step\n",
      "Epoch 41/50\n",
      "52/52 - 2s - loss: 3.7238e-05 - accuracy: 1.0000 - 2s/epoch - 37ms/step\n",
      "Epoch 42/50\n",
      "52/52 - 2s - loss: 3.5428e-05 - accuracy: 1.0000 - 2s/epoch - 38ms/step\n",
      "Epoch 43/50\n",
      "52/52 - 2s - loss: 3.3476e-05 - accuracy: 1.0000 - 2s/epoch - 38ms/step\n",
      "Epoch 44/50\n",
      "52/52 - 2s - loss: 3.1768e-05 - accuracy: 1.0000 - 2s/epoch - 38ms/step\n",
      "Epoch 45/50\n",
      "52/52 - 2s - loss: 2.9832e-05 - accuracy: 1.0000 - 2s/epoch - 38ms/step\n",
      "Epoch 46/50\n",
      "52/52 - 2s - loss: 2.8191e-05 - accuracy: 1.0000 - 2s/epoch - 37ms/step\n",
      "Epoch 47/50\n",
      "52/52 - 2s - loss: 2.6720e-05 - accuracy: 1.0000 - 2s/epoch - 39ms/step\n",
      "Epoch 48/50\n",
      "52/52 - 2s - loss: 2.5515e-05 - accuracy: 1.0000 - 2s/epoch - 38ms/step\n",
      "Epoch 49/50\n",
      "52/52 - 2s - loss: 2.4292e-05 - accuracy: 1.0000 - 2s/epoch - 38ms/step\n",
      "Epoch 50/50\n",
      "52/52 - 2s - loss: 2.3108e-05 - accuracy: 1.0000 - 2s/epoch - 45ms/step\n",
      "13/13 - 1s - loss: 0.1596 - accuracy: 0.9685 - 557ms/epoch - 43ms/step\n"
     ]
    },
    {
     "data": {
      "text/plain": [
       "[0.15956193208694458, 0.9685230255126953]"
      ]
     },
     "execution_count": 18,
     "metadata": {},
     "output_type": "execute_result"
    }
   ],
   "source": [
    "import tensorflow as tf \n",
    "from tensorflow import keras\n",
    "from keras import layers\n",
    "from keras.layers import Dense, Flatten , Conv2D , MaxPooling2D,Dropout\n",
    "\n",
    "model = keras.Sequential([\n",
    "    keras.Input(shape=(64,64,1)),\n",
    "    Conv2D(32, (3,3), padding='same', activation='relu'),\n",
    "    MaxPooling2D((2,2)),  # Adjusted pooling size\n",
    "\n",
    "    Conv2D(64, (3,3), padding='same', activation='relu'),\n",
    "    MaxPooling2D((2,2)),\n",
    "\n",
    "    Conv2D(128, (3,3), padding='same', activation='relu'),\n",
    "    MaxPooling2D((2,2)),\n",
    "\n",
    "    Conv2D(256, (3,3), padding='same', activation='relu'),\n",
    "    MaxPooling2D((2,2)),\n",
    "\n",
    "    Flatten(),\n",
    "    Dense(128, activation='relu'),\n",
    "    Dense(64, activation='relu'),\n",
    "    Dense(10, activation='softmax')\n",
    "])\n",
    "\n",
    "model.compile(\n",
    "    loss=keras.losses.CategoricalCrossentropy(),\n",
    "    optimizer=keras.optimizers.Adam(learning_rate=0.001),\n",
    "    metrics=['accuracy']\n",
    ")\n",
    "\n",
    "\n",
    "model.fit(x_train,y_train,epochs=50,verbose=2)\n",
    "model.evaluate(x_test,y_test, verbose=2)"
   ]
  },
  {
   "cell_type": "code",
   "execution_count": 19,
   "metadata": {},
   "outputs": [
    {
     "name": "stderr",
     "output_type": "stream",
     "text": [
      "WARNING:absl:Found untraced functions such as _jit_compiled_convolution_op, _jit_compiled_convolution_op, _jit_compiled_convolution_op, _jit_compiled_convolution_op while saving (showing 4 of 4). These functions will not be directly callable after loading.\n"
     ]
    },
    {
     "name": "stdout",
     "output_type": "stream",
     "text": [
      "INFO:tensorflow:Assets written to: sign\\assets\n"
     ]
    },
    {
     "name": "stderr",
     "output_type": "stream",
     "text": [
      "INFO:tensorflow:Assets written to: sign\\assets\n"
     ]
    }
   ],
   "source": [
    "model.save(\"sign\")"
   ]
  }
 ],
 "metadata": {
  "kernelspec": {
   "display_name": "tf_gpu",
   "language": "python",
   "name": "python3"
  },
  "language_info": {
   "codemirror_mode": {
    "name": "ipython",
    "version": 3
   },
   "file_extension": ".py",
   "mimetype": "text/x-python",
   "name": "python",
   "nbconvert_exporter": "python",
   "pygments_lexer": "ipython3",
   "version": "3.9.18"
  }
 },
 "nbformat": 4,
 "nbformat_minor": 2
}
